{
 "cells": [
  {
   "cell_type": "code",
   "execution_count": 1,
   "id": "657615c6-d162-40eb-99e6-87cff2373707",
   "metadata": {},
   "outputs": [],
   "source": [
    "import sys\n",
    "import scipy\n",
    "import numpy as np \n",
    "import networkx as nx\n",
    "import matplotlib.pyplot as plt\n",
    "%matplotlib inline\n",
    "import pandas as pd "
   ]
  },
  {
   "cell_type": "code",
   "execution_count": 2,
   "id": "7fae3742-35de-468f-8a85-bd0a0b39ce4a",
   "metadata": {},
   "outputs": [],
   "source": [
    "from orcomics import ORC"
   ]
  },
  {
   "cell_type": "code",
   "execution_count": 3,
   "id": "5ae39d51-5172-4786-9660-3b412f97e71a",
   "metadata": {},
   "outputs": [
    {
     "data": {
      "text/plain": [
       "'\\nToy data from CSV files\\n\\nHere, we show a very simple example of ORCO. \"test_ADJ\" is toy \\nnetwork with a topology similar to that of Figure 1. \"test_data\" is \\nrandom data. There are 6 nodes, 8 edges, and 2 subjects. The input \\nto ORCO is a networkX graph structure where the edge weights \\nare labeled \\'weight.\\' The output is a edgelist with ORC values. \\nThe code follows the method outlined in the manuscript. \\n\\n'"
      ]
     },
     "execution_count": 3,
     "metadata": {},
     "output_type": "execute_result"
    }
   ],
   "source": [
    "\"\"\"\n",
    "Toy data from CSV files\n",
    "\n",
    "Here, we show a very simple example of ORCO. \"test_ADJ\" is toy \n",
    "network with a topology similar to that of Figure 1. \"test_data\" is \n",
    "random data. There are 6 nodes, 8 edges, and 2 subjects. The input \n",
    "to ORCO is a networkX graph structure where the edge weights \n",
    "are labeled 'weight.' The output is a edgelist with ORC values. \n",
    "The code follows the method outlined in the manuscript. \n",
    "\n",
    "\"\"\""
   ]
  },
  {
   "cell_type": "code",
   "execution_count": 4,
   "id": "cd338e81-2dc8-4f14-bca8-2d6ffd711881",
   "metadata": {},
   "outputs": [],
   "source": [
    "# Load example data from CSV files\n",
    "test_adj = pd.read_csv('test_ADJ.csv', index_col=0) \n",
    "test_data = pd.read_excel('test_data.xlsx', index_col=0) "
   ]
  },
  {
   "cell_type": "code",
   "execution_count": 5,
   "id": "42608029-3c12-48be-b75a-7f282fe40119",
   "metadata": {},
   "outputs": [
    {
     "data": {
      "text/html": [
       "<div>\n",
       "<style scoped>\n",
       "    .dataframe tbody tr th:only-of-type {\n",
       "        vertical-align: middle;\n",
       "    }\n",
       "\n",
       "    .dataframe tbody tr th {\n",
       "        vertical-align: top;\n",
       "    }\n",
       "\n",
       "    .dataframe thead th {\n",
       "        text-align: right;\n",
       "    }\n",
       "</style>\n",
       "<table border=\"1\" class=\"dataframe\">\n",
       "  <thead>\n",
       "    <tr style=\"text-align: right;\">\n",
       "      <th></th>\n",
       "      <th>Gene A</th>\n",
       "      <th>Gene B</th>\n",
       "      <th>Gene C</th>\n",
       "      <th>Gene D</th>\n",
       "      <th>Gene E</th>\n",
       "      <th>Gene F</th>\n",
       "    </tr>\n",
       "  </thead>\n",
       "  <tbody>\n",
       "    <tr>\n",
       "      <th>Subject A</th>\n",
       "      <td>0.2</td>\n",
       "      <td>0.4</td>\n",
       "      <td>0.6</td>\n",
       "      <td>0.3</td>\n",
       "      <td>0.5</td>\n",
       "      <td>0.1</td>\n",
       "    </tr>\n",
       "    <tr>\n",
       "      <th>Subject B</th>\n",
       "      <td>0.2</td>\n",
       "      <td>0.4</td>\n",
       "      <td>0.6</td>\n",
       "      <td>0.3</td>\n",
       "      <td>0.5</td>\n",
       "      <td>1.0</td>\n",
       "    </tr>\n",
       "  </tbody>\n",
       "</table>\n",
       "</div>"
      ],
      "text/plain": [
       "           Gene A  Gene B  Gene C  Gene D  Gene E  Gene F\n",
       "Subject A     0.2     0.4     0.6     0.3     0.5     0.1\n",
       "Subject B     0.2     0.4     0.6     0.3     0.5     1.0"
      ]
     },
     "execution_count": 5,
     "metadata": {},
     "output_type": "execute_result"
    }
   ],
   "source": [
    "# This DataFrame has 6 example genes over two subjects\n",
    "test_data"
   ]
  },
  {
   "cell_type": "code",
   "execution_count": 6,
   "id": "0fabb33b-ab9c-4da2-af53-e775c220dbf4",
   "metadata": {},
   "outputs": [
    {
     "data": {
      "text/html": [
       "<div>\n",
       "<style scoped>\n",
       "    .dataframe tbody tr th:only-of-type {\n",
       "        vertical-align: middle;\n",
       "    }\n",
       "\n",
       "    .dataframe tbody tr th {\n",
       "        vertical-align: top;\n",
       "    }\n",
       "\n",
       "    .dataframe thead th {\n",
       "        text-align: right;\n",
       "    }\n",
       "</style>\n",
       "<table border=\"1\" class=\"dataframe\">\n",
       "  <thead>\n",
       "    <tr style=\"text-align: right;\">\n",
       "      <th></th>\n",
       "      <th>Gene A</th>\n",
       "      <th>Gene B</th>\n",
       "      <th>Gene C</th>\n",
       "      <th>Gene D</th>\n",
       "      <th>Gene E</th>\n",
       "      <th>Gene F</th>\n",
       "    </tr>\n",
       "  </thead>\n",
       "  <tbody>\n",
       "    <tr>\n",
       "      <th>Gene A</th>\n",
       "      <td>0</td>\n",
       "      <td>1</td>\n",
       "      <td>1</td>\n",
       "      <td>1</td>\n",
       "      <td>1</td>\n",
       "      <td>1</td>\n",
       "    </tr>\n",
       "    <tr>\n",
       "      <th>Gene B</th>\n",
       "      <td>1</td>\n",
       "      <td>0</td>\n",
       "      <td>0</td>\n",
       "      <td>0</td>\n",
       "      <td>0</td>\n",
       "      <td>1</td>\n",
       "    </tr>\n",
       "    <tr>\n",
       "      <th>Gene C</th>\n",
       "      <td>1</td>\n",
       "      <td>0</td>\n",
       "      <td>0</td>\n",
       "      <td>0</td>\n",
       "      <td>1</td>\n",
       "      <td>1</td>\n",
       "    </tr>\n",
       "    <tr>\n",
       "      <th>Gene D</th>\n",
       "      <td>1</td>\n",
       "      <td>0</td>\n",
       "      <td>0</td>\n",
       "      <td>0</td>\n",
       "      <td>0</td>\n",
       "      <td>0</td>\n",
       "    </tr>\n",
       "    <tr>\n",
       "      <th>Gene E</th>\n",
       "      <td>1</td>\n",
       "      <td>0</td>\n",
       "      <td>1</td>\n",
       "      <td>0</td>\n",
       "      <td>0</td>\n",
       "      <td>0</td>\n",
       "    </tr>\n",
       "    <tr>\n",
       "      <th>Gene F</th>\n",
       "      <td>1</td>\n",
       "      <td>1</td>\n",
       "      <td>1</td>\n",
       "      <td>0</td>\n",
       "      <td>0</td>\n",
       "      <td>0</td>\n",
       "    </tr>\n",
       "  </tbody>\n",
       "</table>\n",
       "</div>"
      ],
      "text/plain": [
       "        Gene A  Gene B  Gene C  Gene D  Gene E  Gene F\n",
       "Gene A       0       1       1       1       1       1\n",
       "Gene B       1       0       0       0       0       1\n",
       "Gene C       1       0       0       0       1       1\n",
       "Gene D       1       0       0       0       0       0\n",
       "Gene E       1       0       1       0       0       0\n",
       "Gene F       1       1       1       0       0       0"
      ]
     },
     "execution_count": 6,
     "metadata": {},
     "output_type": "execute_result"
    }
   ],
   "source": [
    "# Adjacency matrix for the 6 genes\n",
    "test_adj"
   ]
  },
  {
   "cell_type": "code",
   "execution_count": 7,
   "id": "f53c9598-7ecc-4d3d-9ecb-772765cb6b80",
   "metadata": {},
   "outputs": [],
   "source": [
    "# Create networkX object from the adjacency dataframe\n",
    "test_graph = nx.from_pandas_adjacency(test_adj)\n",
    "\n",
    "# Add node values \n",
    "nx.set_node_attributes(test_graph, test_data.loc['Subject A'], name='weight')"
   ]
  },
  {
   "cell_type": "code",
   "execution_count": 8,
   "id": "0c3bd8a0-4478-4bf5-890e-af7c55a20c42",
   "metadata": {},
   "outputs": [
    {
     "data": {
      "text/plain": [
       "{('Gene A', 'Gene B'): -0.06825549729078118,\n",
       " ('Gene A', 'Gene C'): 0.46107562163418825,\n",
       " ('Gene B', 'Gene F'): 0.18422608757172698,\n",
       " ('Gene A', 'Gene E'): 0.41263097155881057,\n",
       " ('Gene C', 'Gene E'): 0.18959503782260845,\n",
       " ('Gene A', 'Gene F'): 0.7408350285049605,\n",
       " ('Gene A', 'Gene D'): -0.3677648268156226,\n",
       " ('Gene C', 'Gene F'): 0.22806487370019657}"
      ]
     },
     "execution_count": 8,
     "metadata": {},
     "output_type": "execute_result"
    }
   ],
   "source": [
    "# Run ORCO \n",
    "ORC.orc_omics(test_graph) "
   ]
  },
  {
   "cell_type": "code",
   "execution_count": null,
   "id": "7cc2cf27-235b-4b6e-bc57-591fb5aa1284",
   "metadata": {},
   "outputs": [],
   "source": []
  },
  {
   "cell_type": "code",
   "execution_count": null,
   "id": "e841facf-6228-4e13-9189-70489c97f04b",
   "metadata": {},
   "outputs": [],
   "source": []
  },
  {
   "cell_type": "code",
   "execution_count": null,
   "id": "a387433f-e062-4302-8871-ac58d66e877d",
   "metadata": {},
   "outputs": [],
   "source": []
  }
 ],
 "metadata": {
  "kernelspec": {
   "display_name": "Python 3 (ipykernel)",
   "language": "python",
   "name": "python3"
  },
  "language_info": {
   "codemirror_mode": {
    "name": "ipython",
    "version": 3
   },
   "file_extension": ".py",
   "mimetype": "text/x-python",
   "name": "python",
   "nbconvert_exporter": "python",
   "pygments_lexer": "ipython3",
   "version": "3.9.16"
  }
 },
 "nbformat": 4,
 "nbformat_minor": 5
}
